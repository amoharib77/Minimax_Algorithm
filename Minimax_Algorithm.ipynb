{
 "cells": [
  {
   "cell_type": "markdown",
   "metadata": {},
   "source": [
    "# Tic-tac-toe using minimax and alpha-beta algorithms"
   ]
  },
  {
   "cell_type": "markdown",
   "metadata": {},
   "source": [
    "## Introduction: \n",
    "#### In this project, we will study and understand adversarial search; we chose tic-tac-toe, and we're going to implement Mini-Max and Alpha-Beta pruning algorithms. The main idea of these algorithms is that the player wants to maximize his performance while trying to minimize his opponent's. So the algorithms are supposed to find the best move for the player..\n",
    "\n"
   ]
  },
  {
   "cell_type": "markdown",
   "metadata": {},
   "source": [
    "#### مقدمة:في هذا المشروع، سندرس ونفهم البحث العدائي، اخترنا لعبة أكس أو وسوف نطبق خوارزميتين :1-ميني ماكس 2-ألفا بيتا\n",
    "\n",
    "\n",
    "#### الفكرة العامة لهذه الخوارزميات ان اللاعب يحاول العثور على حركة لرفع ادائه، وخفض اداء خصمه.\n",
    "#### اذًا، من المفترض ان تحصل الخوارزمية على أفضل حركة لـ اللاعب."
   ]
  },
  {
   "cell_type": "markdown",
   "metadata": {},
   "source": [
    "## Adversarial search : \n",
    "#### Adversarial search: is a search in which we look at the issues that occur when we try to plan ahead in order to win, but there are opponents who plan against us in order to make sure we lose. From this, we can conclude that we are dealing with a multi-agent environment, which can be cooperative or competitive, but it's competitive in tic-tac-toe."
   ]
  },
  {
   "cell_type": "markdown",
   "metadata": {},
   "source": [
    "#### البحث العدائي: هو بحث ننظر فيه إلى المشكلات التي تحدث عندما نحاول التخطيط مسبقًا من أجل الفوز ، ولكن هناك خصوم يخططون ضدنا للتأكد من خسارتنا. من هذا المنطلق ، يمكننا أن نستنتج أننا نتعامل مع بيئة متعددة الوكلاء ، والتي يمكن أن تكون تعاونية أو تنافسية ولكنها تنافسية في لعبة أكس أو."
   ]
  },
  {
   "cell_type": "markdown",
   "metadata": {},
   "source": [
    "## Tic-Tac-Toe: \n",
    "#### Is a game in which two players switch turns after each player makes a move. The way to win is either by making a row, a column, or a diagonal of three X's or three O's.\n",
    "#### The game can be drawn if no player has been able to make a row, a column, or a diagonal and the board has become full."
   ]
  },
  {
   "cell_type": "markdown",
   "metadata": {},
   "source": [
    "#### هي لعبة يوجد بها لاعبان يتبادلان الأدوار، طريقة الفوز عن طريق صنع عمود أو صف أو عمود قطري يتكون من ثلاث أكس، أو ثلاث أو."
   ]
  },
  {
   "cell_type": "markdown",
   "metadata": {},
   "source": [
    "\n",
    "#### Initial state : the game initially starts with an empty board.\n",
    "\n",
    "#### State space: Set of all possible remaining states\n",
    "\n",
    "#### Goal state: The game ends with one player winning or a tie between them. Therefore, terminal states are win, lose, or tie."
   ]
  },
  {
   "cell_type": "markdown",
   "metadata": {},
   "source": [
    "#### الحالة الابتدائية: تبدأ اللعبة بلوحة فارغة.\n",
    "\n",
    "#### فضاء العينة: كل الحالات المتبقية المسموحة.\n",
    "\n",
    "#### حالة الهدف: تنتهي اللعبة عن طريق فوز أي لاعب أو التعادل، إذًا الحالة النهائية فوز أو خسارة أو تعادل."
   ]
  },
  {
   "cell_type": "code",
   "execution_count": null,
   "metadata": {},
   "outputs": [],
   "source": [
    "from IPython.display import Image\n",
    "\n",
    "# صورة اكس او هنا\n",
    "Image(url=\"Screenshot_2.png\", width=300, height=300)"
   ]
  },
  {
   "cell_type": "markdown",
   "metadata": {},
   "source": [
    "## Mini-Max algorithm:\n",
    "#### Is an algorithm used especially for games, and it is a recursive algorithm to choose the next move for the player while one player tries to choose a move with the maximum score, and the other player chooses a move with the minimum score. The main idea of the algorithm is to make a desicion to provide the optimal move from the available options assuming that the other player is also choosing the optimal options. The problem is that it has a large time complexity and it O(b^m)."
   ]
  },
  {
   "cell_type": "markdown",
   "metadata": {},
   "source": [
    "#### هي خوارزمية تُستخدم خصيصًا للألعاب ، وهي خوارزمية تستخدم الاستدعاء الذاتي لاختيار الحركة التالية للاعب بينما يحاول أحد اللاعبين اختيار حركة بالقيمة الأعلى ، ويختار اللاعب الآخر حركة بأقل قيمة. الفكرة الرئيسية للخوارزمية هي محاولة الحصول على الحركة الأفضل من بين الخيارات المتاحة بافتراض أن اللاعب الآخر يختار أيضًا يحاول الحصول على الحركة الأفضل له. المشكلة هي أنه يحتوي على تعقيد زمني كبير وهو \n",
    "\n",
    "#### O(b^m)."
   ]
  },
  {
   "cell_type": "code",
   "execution_count": null,
   "metadata": {},
   "outputs": [],
   "source": [
    "from IPython.display import Image\n",
    "\n",
    "# get the image\n",
    "Image(url=\"tree_Ex2_2-90b2e222.png\", width=1000, height=800)"
   ]
  },
  {
   "cell_type": "markdown",
   "metadata": {},
   "source": [
    "\n",
    "## Alpha-beta pruning algorithm:\n",
    "#### is the better version of the minimax algorithm, it seeks to decrease the number of nodes that are evaluated by the minimax algorithm in its search. While they both determine the optimal move for the player. However, the alpha-beta pruning will improve the time complexity by using a technique that doesn't have checking all the nodes, this technique called: pruning which allows us to compute the proper minimax choice without inspecting each node of the game tree. And we do the alpha-cut if Alpha >= Beta, also the Beta-cut happens when Beta <= Alpha.\n",
    "\n",
    "#### Alpha-beta pruning may be done at any level in a tree, and it can occasionally trim the entire sub-tree and the tree leaves. Also, the time complexity is O(b^m/2) if the nodes are in order, and it can reach O(b^m) if there is no pruning."
   ]
  },
  {
   "cell_type": "markdown",
   "metadata": {},
   "source": [
    "#### هي النسخة الأفضل من خوارزمية ميني ماكس، فهي تقلل عدد النودات المحسوبة في خوارزمية ميني ماكس، بينما كلاهما يحددان الحركة الأفضل لـ اللاعب الّا أن خوارزمية الألفا بيتا تحسن التعقيد الزمني عن طريق استخدام طريقة لا تحتاج الى البحث في كل النودات، هذه الطريقة تسمى: القطع، وهي تسمح بحساب الخيار الأنسب دون الحاجة إلى البحث في كل النودات،\n",
    "\n",
    "#### ثم نقوم بـ الالفا كت اذا كانت الالفا أكبر من او تساوي البيتا، ونقوم بـ البيتا كت اذا كانت البيتا أقل من أو تساوي الالفا\n",
    "\n",
    "####  القطع ممكن ان يكون في أي مستوى، ومن الممكن ان يتم قطع شجرة فرعية كاملة، والتعقيد الزمني يقل الى النصف اذا كانت النودات مرتبة، وممكن ان يكون مثل الميني ماكس اذا لم يحدث اي قطع"
   ]
  },
  {
   "cell_type": "code",
   "execution_count": null,
   "metadata": {},
   "outputs": [],
   "source": [
    "from IPython.display import Image\n",
    "\n",
    "# get the image\n",
    "Image(url=\"tictactoe-alphabeta-e8cb918f.png\", width=1000, height=800)"
   ]
  },
  {
   "cell_type": "markdown",
   "metadata": {},
   "source": [
    "# The implementation of the algorithms:"
   ]
  },
  {
   "cell_type": "markdown",
   "metadata": {},
   "source": [
    "## theBoard:\n",
    "#### dictionary that contains an integer leads to String (X OR O) for example if we want to put X in the number 5 [5,X]. \n",
    "\n",
    "#### The tree size will calculate the whole tree nodes."
   ]
  },
  {
   "cell_type": "markdown",
   "metadata": {},
   "source": [
    "#### عبارة عن مصفوفة ارقام تدل على الأحرف أكس او أو \n",
    "\n",
    "#### حجم الشجرة عبارة عن متغير يحسب جميع فروع الشجرة"
   ]
  },
  {
   "cell_type": "code",
   "execution_count": null,
   "metadata": {},
   "outputs": [],
   "source": [
    "theBoard = {1: ' ', 2: ' ', 3: ' ',\n",
    "            4: ' ', 5: ' ', 6: ' ',\n",
    "            7: ' ', 8: ' ', 9: ' '}\n",
    "tree_size = 0"
   ]
  },
  {
   "cell_type": "markdown",
   "metadata": {},
   "source": [
    "## printBoard:\n",
    "#### This method is to print the whole board after making each move."
   ]
  },
  {
   "cell_type": "markdown",
   "metadata": {},
   "source": [
    "#### ميثود تقوم بطباعة اللعبة بعد كل حركة."
   ]
  },
  {
   "cell_type": "code",
   "execution_count": null,
   "metadata": {},
   "outputs": [],
   "source": [
    "def printBoard(board):\n",
    "    print(board[1] + '|' + board[2] + '|' + board[3])\n",
    "    print('-+-+-')\n",
    "    print(board[4] + '|' + board[5] + '|' + board[6])\n",
    "    print('-+-+-')\n",
    "    print(board[7] + '|' + board[8] + '|' + board[9])"
   ]
  },
  {
   "cell_type": "markdown",
   "metadata": {},
   "source": [
    "## checkWhichWon:\n",
    "#### Is a method that receive 'X' or 'O' and check if one of them has won the game."
   ]
  },
  {
   "cell_type": "markdown",
   "metadata": {},
   "source": [
    "#### ميثود تستقبل أكس او أو وتتأكد اذا فاز احدًا منهم."
   ]
  },
  {
   "cell_type": "markdown",
   "metadata": {},
   "source": [
    "## checkBoard:\n",
    "#### is a method to check after the (checkWhichWon) runs, if there is no empty spaces and no one has won it returns True which means the game is drawn."
   ]
  },
  {
   "cell_type": "markdown",
   "metadata": {},
   "source": [
    "#### ميثود تقوم بالتأكد اذا كانت اللعبة انتهت بالتعادل أم لا."
   ]
  },
  {
   "cell_type": "code",
   "execution_count": null,
   "metadata": {},
   "outputs": [],
   "source": [
    "def checkWhichWon(X_OR_O):\n",
    "    if theBoard[1] == theBoard[2] and theBoard[1] == theBoard[3] and theBoard[1] == X_OR_O:\n",
    "        return True\n",
    "    elif (theBoard[4] == theBoard[5] and theBoard[4] == theBoard[6] and theBoard[4] == X_OR_O):\n",
    "        return True\n",
    "    elif (theBoard[7] == theBoard[8] and theBoard[7] == theBoard[9] and theBoard[7] == X_OR_O):\n",
    "        return True\n",
    "    elif (theBoard[1] == theBoard[4] and theBoard[1] == theBoard[7] and theBoard[1] == X_OR_O):\n",
    "        return True\n",
    "    elif (theBoard[2] == theBoard[5] and theBoard[2] == theBoard[8] and theBoard[2] == X_OR_O):\n",
    "        return True\n",
    "    elif (theBoard[3] == theBoard[6] and theBoard[3] == theBoard[9] and theBoard[3] == X_OR_O):\n",
    "        return True\n",
    "    elif (theBoard[1] == theBoard[5] and theBoard[1] == theBoard[9] and theBoard[1] == X_OR_O):\n",
    "        return True\n",
    "    elif (theBoard[7] == theBoard[5] and theBoard[7] == theBoard[3] and theBoard[7] == X_OR_O):\n",
    "        return True\n",
    "    else:\n",
    "        return False\n",
    "\n",
    "def checkBoard():\n",
    "    for key in theBoard.keys():\n",
    "        if (theBoard[key] == ' '):\n",
    "            return False\n",
    "    return True"
   ]
  },
  {
   "cell_type": "markdown",
   "metadata": {},
   "source": [
    "# mini_max_ai:\n",
    "#### This method takes three parameters: whose turn it is and the player and computer notations. It is going to check all empty spaces by loop; when it finds any space, it puts 'X' on it and sends it to the recursive minimax method, which will return the value, then we check if the value is greater than the max_score If it is, then update max_score and assign the key to the best move. In the end, it gets out of the loop and returns the optimal move.\n",
    "\n",
    "# minimax:\n",
    "#### This method gets called by mini_max_ai, and it is going to receive 4 parameters (isMaxmizing means is it min or max, ,who is turn 'X OR O',computer plays, player plays).\n",
    "\n",
    "#### At first, it is going to check if there is a move that will end the game and make the player win.\n",
    "#### if 'X' which is the computer, wins, it returns 1, else if 'O' wins, it returns -1, and if the game is drawn and the board is full, it returns 0.\n",
    "#### Otherwise,\n",
    "\n",
    "\n",
    "#### if it's maximizing(max): we do the same thing in mini_max_ai, but there are two differences. 1: It recersion itself (sends it to the min OR there's a winner OR it's tied) 2: It returns the best value, which leads to a win.\n",
    "\n",
    "\n",
    "#### if it' not maximizing (min): It is going to check all empty spaces by loop , when it finds any, it puts 'O' in this empty space, and send it to max by recersion until there's a winner or a tie. so we assign it to value and check if the value < min_value so we update the min_value and return it."
   ]
  },
  {
   "cell_type": "code",
   "execution_count": null,
   "metadata": {},
   "outputs": [],
   "source": [
    "def mini_max_ai(turn, computer, player):\n",
    "    max_score = -999\n",
    "    bestMove = 0\n",
    "    for key in theBoard.keys():\n",
    "        if (theBoard[key] == ' '):\n",
    "            theBoard[key] = turn                                                   \n",
    "            value = minimax(False, turn, computer, player)                         \n",
    "            theBoard[key] = ' '                                                    \n",
    "            if (value > max_score):\n",
    "                max_score = value\n",
    "                bestMove = key\n",
    "\n",
    "    return bestMove\n",
    "\n",
    "\n",
    "def minimax(isMaximizing, turn, computer, player):\n",
    "    global tree_size\n",
    "    tree_size+=1\n",
    "    if (checkWhichWon(computer)):\n",
    "        return 1\n",
    "    elif (checkWhichWon(player)):\n",
    "        return -1\n",
    "    elif (checkBoard()):\n",
    "        return 0\n",
    "\n",
    "    if (isMaximizing):#max\n",
    "        max_score = -999\n",
    "        for key in theBoard.keys():\n",
    "            if (theBoard[key] == ' '):\n",
    "                theBoard[key] = computer\n",
    "                value = minimax(False, turn, computer,player)\n",
    "                theBoard[key] = ' '\n",
    "                if (value > max_score):\n",
    "                    max_score = value\n",
    "        return max_score\n",
    "\n",
    "    else:#min\n",
    "        min_score = 999\n",
    "        for key in theBoard.keys():\n",
    "            if (theBoard[key] == ' '):\n",
    "                theBoard[key] = player\n",
    "                value= minimax(True, turn, computer, player)\n",
    "                theBoard[key] = ' '\n",
    "                if (value < min_score):\n",
    "                    min_score = value\n",
    "        return min_score"
   ]
  },
  {
   "cell_type": "markdown",
   "metadata": {},
   "source": [
    "# max_alphabeta:\n",
    "#### This method receives the turn, the player, and the alpha and beta values from the main. Then it start checking for the empty spaces, when it finds one it puts 'X' in this empty space, and send it to the recursive minimax method, which will return the score then check if the score is greater than the max_value; if it is, then update max_value and assign the key to the best move. In the end, it gets out of the loop and returns the optimal move.\n",
    "\n",
    "\n",
    "# alphabeta:\n",
    "#### This method gets called by max_alphabeta, and it is going to receive 6 parameters (isMaximizing means is it min or max, who is turn 'X OR O' , computer plays, player plays and alpha and beta values).\n",
    "\n",
    "#### At first it is going to check if the computer or the player won the game.\n",
    "#### if 'X' which is the computer wins, it returns 1, else if 'O' wins, it returns -1, and if the game is drawn and the board is full, it returns 0.\n",
    "#### Otherwise,\n",
    "\n",
    "\n",
    "#### If it's maximizing(max): we do the same thing in max_alphabeta but there are two differences. 1: It sends the current max value and compares it with the recursion of the other empty spaces. 2: It returns the best value, which leads to a win , 3: We check if the alpha is greater than the max_value, if it then update the alpha value and compare it with the beta, if it's greater than beta, we will use the max rule cut off (alpha >= beta) to leave the recursion.\n",
    "\n",
    "\n",
    "#### If it's not maximizing (min): the same thing as maximizing except it's going to compare it for the minimum values and make beta = the lower number between beta and the min_value, then it's going to check if it's lower than or equal to alpha we do the min rule cut off (beta <= alpha) to leave the recursion."
   ]
  },
  {
   "cell_type": "code",
   "execution_count": null,
   "metadata": {},
   "outputs": [],
   "source": [
    "def max_alphabeta(turn,computer,player,alpha,beta):\n",
    "    max_value=-999 \n",
    "    bestMove = 0\n",
    "    for key in theBoard.keys():\n",
    "        if (theBoard[key] == ' '):\n",
    "            theBoard[key] = turn\n",
    "            score = alphabeta( False,turn,computer,player,alpha,beta)\n",
    "            theBoard[key] = ' '\n",
    "            if (score > max_value):\n",
    "                max_value=score\n",
    "                bestMove = key\n",
    "    return bestMove\n",
    "    \n",
    "def alphabeta( isMaximizing,turn,computer,player,alpha,beta):\n",
    "    global tree_size\n",
    "    tree_size+=1\n",
    "    if (checkWhichWon(computer)):\n",
    "        return 1\n",
    "    elif (checkWhichWon(player)):\n",
    "        return -1\n",
    "    elif (checkBoard()): \n",
    "        return 0\n",
    "\n",
    "    if (isMaximizing):\n",
    "         max_value=-100 \n",
    "         for key in theBoard.keys():\n",
    "             if (theBoard[key] == ' '):\n",
    "                 theBoard[key] = computer\n",
    "                 max_value =max(max_value, alphabeta( False,turn,computer,player,alpha,beta))\n",
    "                 theBoard[key] = ' '\n",
    "                 alpha=max(alpha,max_value)\n",
    "                 if (alpha>=beta):\n",
    "                    break               \n",
    "         return max_value\n",
    "\n",
    "    else:\n",
    "        min_value = 100 \n",
    "        for key in theBoard.keys():\n",
    "             if (theBoard[key] == ' '):\n",
    "                 theBoard[key] = player\n",
    "                 min_value = min(min_value,alphabeta( True,turn,computer,player,alpha,beta))\n",
    "                 theBoard[key] = ' '\n",
    "                 beta=min(beta,min_value)                    \n",
    "                 if (beta<=alpha):\n",
    "                  break                 \n",
    "        return min_value"
   ]
  },
  {
   "cell_type": "markdown",
   "metadata": {},
   "source": [
    "## check_win():\n",
    "#### This method gets called from the main after each move to check if there is a winner print who won and if the board is full it's a tie. Otherwise the game continue."
   ]
  },
  {
   "cell_type": "markdown",
   "metadata": {},
   "source": [
    "#### ميثود يتم استدعائها من المين بعد كل حركة لتتأكد اذا كان يوجد فائز تطبع من فاز واذا كانت البورد ممتلئة تنتهي اللعبة بالتعادل, او تستمر اللعبة."
   ]
  },
  {
   "cell_type": "code",
   "execution_count": null,
   "metadata": {},
   "outputs": [],
   "source": [
    "\n",
    "def check_win(count, turn,total_time):\n",
    "    # Now we will check if player X or O has won,for every move after 5 moves.\n",
    "    depth=count\n",
    "    if count >= 5:\n",
    "\n",
    "        if theBoard[7] == theBoard[8] == theBoard[9] != ' ':  # across the top\n",
    "\n",
    "            printBoard(theBoard)\n",
    "            print(\"\\nGame Over.\\n\")\n",
    "            print(\" **** \" + turn + \" won. ****\")\n",
    "            print(\"The depth is = \",depth)\n",
    "            print(\"the size is : \",tree_size)\n",
    "            print(\"The Total Time is : \",total_time)\n",
    "            exit()\n",
    "\n",
    "        elif theBoard[4] == theBoard[5] == theBoard[6] != ' ':  # across the middle\n",
    "            printBoard(theBoard)\n",
    "            print(\"\\nGame Over.\\n\")\n",
    "            print(\" **** \" + turn + \" won. ****\")\n",
    "            print(\"The depth is = \",depth)\n",
    "            print(\"the size is : \",tree_size)\n",
    "            print(\"The Total Time is : \",total_time)\n",
    "            exit()\n",
    "\n",
    "        elif theBoard[1] == theBoard[2] == theBoard[3] != ' ':  # across the bottom\n",
    "            printBoard(theBoard)\n",
    "            print(\"\\nGame Over.\\n\")\n",
    "            print(\" **** \" + turn + \" won. ****\")\n",
    "            print(\"The depth is = \",depth)\n",
    "            print(\"the size is : \",tree_size)\n",
    "            print(\"The Total Time is : \",total_time)\n",
    "            exit()\n",
    "\n",
    "        elif theBoard[1] == theBoard[4] == theBoard[7] != ' ':  # down the left side\n",
    "            printBoard(theBoard)\n",
    "            print(\"\\nGame Over.\\n\")\n",
    "            print(\" **** \" + turn + \" won. ****\")\n",
    "            print(\"The depth is = \",depth)\n",
    "            print(\"the size is : \",tree_size)\n",
    "            print(\"The Total Time is : \",total_time)\n",
    "            exit()\n",
    "\n",
    "        elif theBoard[2] == theBoard[5] == theBoard[8] != ' ':  # down the middle\n",
    "            printBoard(theBoard)\n",
    "            print(\"\\nGame Over.\\n\")\n",
    "            print(\" **** \" + turn + \" won. ****\")\n",
    "            print(\"The depth is = \",depth)\n",
    "            print(\"the size is : \",tree_size)\n",
    "            print(\"The Total Time is : \",total_time)\n",
    "            exit()\n",
    "\n",
    "        elif theBoard[3] == theBoard[6] == theBoard[9] != ' ':  # down the right side\n",
    "            printBoard(theBoard)\n",
    "            print(\"\\nGame Over.\\n\")\n",
    "            print(\" **** \" + turn + \" won. ****\")\n",
    "            print(\"The depth is = \",depth)\n",
    "            print(\"the size is : \",tree_size)\n",
    "            print(\"The Total Time is : \",total_time)\n",
    "            exit()\n",
    "\n",
    "        elif theBoard[7] == theBoard[5] == theBoard[3] != ' ':  # diagonal\n",
    "            printBoard(theBoard)\n",
    "            print(\"\\nGame Over.\\n\")\n",
    "            print(\" **** \" + turn + \" won. ****\")\n",
    "            print(\"The depth is = \",depth)\n",
    "            print(\"the size is : \",tree_size)\n",
    "            print(\"The Total Time is : \",total_time)\n",
    "            exit()\n",
    "\n",
    "        elif theBoard[1] == theBoard[5] == theBoard[9] != ' ':  # diagonal\n",
    "            printBoard(theBoard)\n",
    "            print(\"\\nGame Over.\\n\")\n",
    "            print(\" **** \" + turn + \" won. ****\")\n",
    "            print(\"The depth is = \",depth)\n",
    "            print(\"the size is : \",tree_size)\n",
    "            print(\"The Total Time is : \",total_time)\n",
    "            exit()\n",
    "\n",
    "        # If neither X nor O wins and the board is full, we'll declare the result as 'tie'.\n",
    "        if count == 9:\n",
    "            printBoard(theBoard)\n",
    "            print(\"\\nGame Over.\\n\")\n",
    "            print(\"It's a Tie!!\")\n",
    "            print(\"The depth is = \",depth)\n",
    "            print(\"the size is : \",tree_size)\n",
    "            print(\"The Total Time is : \",total_time)\n",
    "            exit()"
   ]
  },
  {
   "cell_type": "markdown",
   "metadata": {},
   "source": [
    "# game:\n",
    "#### This is the main method for the game tic-tac-toe, it starts by printing the turn and to make a move, if the turn is the player he puts a number between 1-9, if the place is already filled, he has to choose again. When it is the AI turn, it sends the parameters to the methods {mini_max_ai() or max_alphabeta()}.\n",
    "\n",
    "#### After each turn from the players, it uses the method check_win() to see if there is a winner (\"the method won't do anything till move 5\")."
   ]
  },
  {
   "cell_type": "markdown",
   "metadata": {},
   "source": [
    "#### هذه الميثود هي المين وهي التي تتم فيها لعبة الأكس أو، وتبدأ بطباعة الدور وتطلب لعب حركة، اذا كان الدور على اللاعب يضع رقم بين 9-1، اذا كان المربع ممتلئ يُطلب منه الاختيار مرة أخرى.\n",
    "\n",
    "#### اذا كان الدور على الكمبيوتر يتم اختيار الحركة عن طريق أحد الخوارزميتين.\n",
    "\n",
    "#### بعد كل حركة من بين اللاعبين، تتأكد اذا كان هناك فائز او لا، هذه الميثود لا تستدعى الا بعد الحركة الخامسة."
   ]
  },
  {
   "cell_type": "code",
   "execution_count": null,
   "metadata": {},
   "outputs": [],
   "source": [
    "import time\n",
    "def game():\n",
    "    player = 'O'\n",
    "    computer = 'X'\n",
    "    turn = 'O' #if we want to start before the AI, we switch the turn to 'O'.\n",
    "    count = 0\n",
    "    Time=0\n",
    "    totalTime=0\n",
    "    for i in range(100):\n",
    "        printBoard(theBoard)\n",
    "        print()\n",
    "        if turn == 'X': \n",
    "            start_time = time.time()\n",
    "            move = max_alphabeta(turn,computer,player,-2000,2000)\n",
    "            Time=(time.time() - start_time)\n",
    "            print(\"the size is : \",tree_size)\n",
    "            totalTime=Time+totalTime\n",
    "            print(\"The AI spent: \",Time,\"And chose the move\",move) #the time the AI spent on the move.\n",
    "\n",
    "        else:\n",
    "            print(\"================================================\")\n",
    "            print(\"It's your turn,\" + turn + \".Move to which place?\")\n",
    "            print(\"================================================\")\n",
    "            move = int(input())\n",
    "\n",
    "        if theBoard[move] == ' ':\n",
    "            theBoard[move] = turn\n",
    "            count += 1\n",
    "        else:\n",
    "            print(\"That place is already filled.\\nMove to which place?\")\n",
    "            continue\n",
    "\n",
    "        # Now we will check if player X or O has won,for every move after 5 moves.\n",
    "        check_win(count, turn,totalTime)\n",
    "\n",
    "        # Now we have to change the player after every move.\n",
    "        if turn == 'X':\n",
    "            turn = 'O'\n",
    "        else:\n",
    "            turn = 'X'\n",
    "\n",
    "if __name__ == \"__main__\":\n",
    "    game()"
   ]
  },
  {
   "cell_type": "code",
   "execution_count": null,
   "metadata": {},
   "outputs": [],
   "source": [
    "from IPython.display import Image\n",
    "\n",
    "# صورة اكس او هنا\n",
    "Image(url=\"Screenshot_6.png\", width=800, height=800)"
   ]
  },
  {
   "cell_type": "markdown",
   "metadata": {},
   "source": [
    "# Experimental results\n",
    "#### We conclude that we can't win against the computer in both algorithms, but sometimes we tie. Firstly, there are big differences between mini-max and alpha-beta in time and tree size. The alpha-beta is better,Secendly there is a huge difference if we play first or the computer.  \n",
    "#### In the end, alpha-beta is better in terms of performance and takes less time than mini-max."
   ]
  },
  {
   "cell_type": "markdown",
   "metadata": {},
   "source": [
    "# References \n",
    "1:https://medium.com/byte-tales/the-classic-tic-tac-toe-game-in-python-3-1427c68b8874\n",
    "\n",
    "2:https://stackoverflow.com/questions/1557571/how-do-i-get-time-of-a-python-programs-execution\n",
    "\n",
    "3:https://www.whitman.edu/documents/Academics/Mathematics/2019/Felstiner-Guichard.pdf\n",
    "\n",
    "4:https://en.wikipedia.org/wiki/Tic-tac-toe\n",
    "\n",
    "5:https://materiaalit.github.io/intro-to-ai/part2/\n",
    "\n",
    "6:Russell and Norvig, Articial Intelligence:A Modern Approach, 3rd Ed,2009.\n",
    "\n",
    "7:David L. Poole et al, Artificial Intelligence:foundations of computational Agents,2010"
   ]
  }
 ],
 "metadata": {
  "kernelspec": {
   "display_name": "Python 3",
   "language": "python",
   "name": "python3"
  },
  "language_info": {
   "codemirror_mode": {
    "name": "ipython",
    "version": 3
   },
   "file_extension": ".py",
   "mimetype": "text/x-python",
   "name": "python",
   "nbconvert_exporter": "python",
   "pygments_lexer": "ipython3",
   "version": "3.10.7 (tags/v3.10.7:6cc6b13, Sep  5 2022, 14:08:36) [MSC v.1933 64 bit (AMD64)]"
  },
  "orig_nbformat": 4,
  "vscode": {
   "interpreter": {
    "hash": "afb734500600fd355917ca529030176ea0ca205570884b88f2f6f7d791fd3fbe"
   }
  }
 },
 "nbformat": 4,
 "nbformat_minor": 2
}
